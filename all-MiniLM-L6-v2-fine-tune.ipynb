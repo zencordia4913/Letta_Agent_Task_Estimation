{
 "cells": [
  {
   "cell_type": "code",
   "execution_count": null,
   "metadata": {},
   "outputs": [],
   "source": [
    "import pandas as pd # For transforming JSON data into a pandas dataframe"
   ]
  },
  {
   "cell_type": "code",
   "execution_count": 4,
   "metadata": {},
   "outputs": [],
   "source": [
    "# B.1.1: Define the maximum length for a sequence\n",
    "MAX_LEN = 40\n",
    "\n",
    "\n",
    "# B.1.4: CSV path\n",
    "csv_path = (r'updated_historical_task_data.csv')\n",
    "\n",
    "# B.1.5: Load the dataset from CSV\n",
    "df = pd.read_csv(csv_path)"
   ]
  },
  {
   "cell_type": "code",
   "execution_count": 5,
   "metadata": {},
   "outputs": [
    {
     "name": "stdout",
     "output_type": "stream",
     "text": [
      "       id  can_pivot                      date_created  \\\n",
      "0  854260      False  2024-08-07 01:42:01.651736+00:00   \n",
      "1  846405      False  2024-08-01 11:25:47.734743+00:00   \n",
      "2  850928       True  2024-08-05 03:26:43.010811+00:00   \n",
      "3  854486      False  2024-08-07 04:53:18.290521+00:00   \n",
      "4  854486      False  2024-08-07 04:53:18.290521+00:00   \n",
      "5  854486      False  2024-08-07 04:53:18.290521+00:00   \n",
      "6  831866      False  2024-07-24 01:20:58.305063+00:00   \n",
      "7  831566      False  2024-07-23 19:57:20.597660+00:00   \n",
      "8  806180      False  2024-07-07 02:38:41.285841+00:00   \n",
      "9  806179      False  2024-07-07 02:38:30.102138+00:00   \n",
      "\n",
      "                    date_due description                           done_at  \\\n",
      "0                        NaN         NaN  2024-08-07 05:41:01.145415+00:00   \n",
      "1  2024-08-01 11:23:00+00:00         NaN  2024-08-07 05:40:18.404492+00:00   \n",
      "2  2024-08-11 15:59:00+00:00         NaN  2024-08-07 05:40:14.839560+00:00   \n",
      "3  2024-08-07 04:45:00+00:00         NaN  2024-08-07 05:40:04.381880+00:00   \n",
      "4  2024-08-07 04:45:00+00:00         NaN  2024-08-07 05:40:03.579099+00:00   \n",
      "5  2024-08-07 04:45:00+00:00         NaN  2024-08-07 05:40:03.579099+00:00   \n",
      "6                        NaN         NaN  2024-08-07 05:39:42.642736+00:00   \n",
      "7                        NaN         NaN  2024-08-07 05:39:42.642736+00:00   \n",
      "8                        NaN         NaN  2024-08-07 05:38:38.860692+00:00   \n",
      "9                        NaN         NaN  2024-08-07 05:38:38.860692+00:00   \n",
      "\n",
      "   is_inactivity_allowed  is_picture_required  is_progress_photos_required  \\\n",
      "0                  False                False                        False   \n",
      "1                  False                False                        False   \n",
      "2                  False                False                        False   \n",
      "3                  False                False                        False   \n",
      "4                  False                False                        False   \n",
      "5                  False                False                        False   \n",
      "6                  False                False                        False   \n",
      "7                  False                False                        False   \n",
      "8                  False                False                        False   \n",
      "9                  False                False                        False   \n",
      "\n",
      "   is_meeting  points  progress_photos_count  removed  task_type  \\\n",
      "0       False       0                      0    False          1   \n",
      "1       False       0                      0    False          1   \n",
      "2       False       0                      0    False          1   \n",
      "3       False       0                      0    False          1   \n",
      "4       False       0                      0    False          1   \n",
      "5       False       0                      0    False          1   \n",
      "6       False       0                      0    False          1   \n",
      "7       False       0                      0    False          1   \n",
      "8       False       0                      0    False          1   \n",
      "9       False       0                      0    False          1   \n",
      "\n",
      "                                               title               creator  \\\n",
      "0  Re: Social Media Associate - Job Opportunity R...      System Generated   \n",
      "1  [Usability Suggestion] Using IDs instead of Ti...      System Generated   \n",
      "2                        week 9 social media posting       Jeffrey Banares   \n",
      "3  Requesting for Fix Payroll for the newly hired...      System Generated   \n",
      "4  Requesting for Fix Payroll for the newly hired...      System Generated   \n",
      "5  Requesting for Fix Payroll for the newly hired...      System Generated   \n",
      "6  [New Era] Address Concern: Dismissal Due To Be...  Devine Angel Elegino   \n",
      "7                 Dismissal Due To Behavioral Issues      System Generated   \n",
      "8  Review Test Case: WF Exec : Payroll Issues - V...  Dana Wylene Tauto-an   \n",
      "9  Update Test Case: WF Exec : Payroll Issues - V...  Dana Wylene Tauto-an   \n",
      "\n",
      "  scheduled_task  history_id                      history_date  \\\n",
      "0            NaN     1832635  2024-08-07 05:41:01.330666+00:00   \n",
      "1            NaN     1832633  2024-08-07 05:40:18.456678+00:00   \n",
      "2            NaN     1832632  2024-08-07 05:40:14.844505+00:00   \n",
      "3            NaN     1832615  2024-08-07 05:40:04.512122+00:00   \n",
      "4            NaN     1832612  2024-08-07 05:40:04.029658+00:00   \n",
      "5            NaN     1832611  2024-08-07 05:40:03.620687+00:00   \n",
      "6            NaN     1832608  2024-08-07 05:39:43.000735+00:00   \n",
      "7            NaN     1832607  2024-08-07 05:39:42.669872+00:00   \n",
      "8            NaN     1832606  2024-08-07 05:38:39.080559+00:00   \n",
      "9            NaN     1832605  2024-08-07 05:38:38.959169+00:00   \n",
      "\n",
      "   history_change_reason history_type        history_user  \\\n",
      "0                    NaN            ~          roseivutha   \n",
      "1                    NaN            ~           andrewman   \n",
      "2                    NaN            ~       rogeliomusngi   \n",
      "3                    NaN            ~       johnpaulrodas   \n",
      "4                    NaN            ~       johnpaulrodas   \n",
      "5                    NaN            ~       johnpaulrodas   \n",
      "6                    NaN            ~  devineangelelegino   \n",
      "7                    NaN            ~  devineangelelegino   \n",
      "8                    NaN            ~       sandranakacwa   \n",
      "9                    NaN            ~       sandranakacwa   \n",
      "\n",
      "                  duration  task_duration_days  task_duration_hours  \\\n",
      "0   0 days 03:58:59.493679                   0             3.983193   \n",
      "1   5 days 18:14:30.669749                   5           138.241853   \n",
      "2   2 days 02:13:31.828749                   2            50.225508   \n",
      "3   0 days 00:46:46.091359                   0             0.779470   \n",
      "4   0 days 00:46:45.288578                   0             0.779247   \n",
      "5   0 days 00:46:45.288578                   0             0.779247   \n",
      "6  14 days 04:18:44.337673                  14           340.312316   \n",
      "7  14 days 09:42:22.045076                  14           345.706124   \n",
      "8  31 days 02:59:57.574851                  31           746.999326   \n",
      "9  31 days 03:00:08.758554                  31           747.002433   \n",
      "\n",
      "   task_duration_minutes  \n",
      "0             238.991561  \n",
      "1            8294.511162  \n",
      "2            3013.530479  \n",
      "3              46.768189  \n",
      "4              46.754810  \n",
      "5              46.754810  \n",
      "6           20418.738961  \n",
      "7           20742.367418  \n",
      "8           44819.959581  \n",
      "9           44820.145976  \n",
      "No. of rows: 29348\n"
     ]
    }
   ],
   "source": [
    "pd.set_option('display.max_columns', None)\n",
    "print(df[:10])\n",
    "\n",
    "\n",
    "# Display train and test num rows\n",
    "print(f'No. of rows: {len(df)}')"
   ]
  },
  {
   "cell_type": "code",
   "execution_count": 6,
   "metadata": {},
   "outputs": [
    {
     "name": "stdout",
     "output_type": "stream",
     "text": [
      "task_duration_hours\n",
      "0.000320        1\n",
      "0.000325        1\n",
      "0.000364        1\n",
      "0.000368        1\n",
      "0.000388        1\n",
      "               ..\n",
      "17409.218828    1\n",
      "17409.218934    1\n",
      "19297.824030    1\n",
      "19297.830642    1\n",
      "19459.623471    1\n",
      "Name: count, Length: 28522, dtype: int64\n"
     ]
    }
   ],
   "source": [
    "# Frequency distribution of 'task_duration_hours'\n",
    "frequency_distribution = df['task_duration_hours'].value_counts().sort_index()\n",
    "\n",
    "# Display the result\n",
    "print(frequency_distribution)"
   ]
  },
  {
   "cell_type": "code",
   "execution_count": 7,
   "metadata": {},
   "outputs": [
    {
     "data": {
      "image/png": "[encoded data removed]",
      "text/plain": [
       "<Figure size 640x480 with 1 Axes>"
      ]
     },
     "metadata": {},
     "output_type": "display_data"
    }
   ],
   "source": [
    "import matplotlib.pyplot as plt\n",
    "\n",
    "# Plot histogram of 'task_duration_hours' from 0 to the maximum value\n",
    "plt.hist(df['task_duration_hours'], bins=range(0, int(df['task_duration_hours'].max()) + 2), edgecolor='black')\n",
    "\n",
    "# Add labels and title\n",
    "plt.xlabel('Task Duration Hours')\n",
    "plt.ylabel('Frequency')\n",
    "plt.title('Histogram of Task Duration Hours')\n",
    "\n",
    "# Show the plot\n",
    "plt.show()"
   ]
  },
  {
   "cell_type": "code",
   "execution_count": 8,
   "metadata": {},
   "outputs": [
    {
     "data": {
      "image/png": "[encoded data removed]",
      "text/plain": [
       "<Figure size 640x480 with 1 Axes>"
      ]
     },
     "metadata": {},
     "output_type": "display_data"
    }
   ],
   "source": [
    "# Remove values greater than the 95th percentile\n",
    "upper_limit = df['task_duration_hours'].quantile(0.95)\n",
    "df_filtered = df[(df['task_duration_hours'] <= upper_limit) & (df['task_duration_hours'] > 0)]\n",
    "\n",
    "# Plot the histogram after filtering out outliers\n",
    "plt.hist(df_filtered['task_duration_hours'], bins=range(0, int(df_filtered['task_duration_hours'].max()) + 2), edgecolor='black')\n",
    "\n",
    "# Add labels and title\n",
    "plt.xlabel('Task Duration Hours (Filtered)')\n",
    "plt.ylabel('Frequency')\n",
    "plt.title('Histogram of Task Actual Hours (After Removing Outliers)')\n",
    "\n",
    "# Show the plot\n",
    "plt.show()\n"
   ]
  },
  {
   "cell_type": "code",
   "execution_count": 9,
   "metadata": {},
   "outputs": [
    {
     "name": "stdout",
     "output_type": "stream",
     "text": [
      "Original count: 29348\n",
      "Filtered count: 27880\n",
      "Number of rows filtered out: 1468\n"
     ]
    }
   ],
   "source": [
    "# Number of rows before and after filtering\n",
    "original_count = len(df)\n",
    "filtered_count = len(df_filtered)\n",
    "\n",
    "# Calculate how many were filtered out\n",
    "filtered_out_count = original_count - filtered_count\n",
    "\n",
    "# Display the result\n",
    "print(f\"Original count: {original_count}\")\n",
    "print(f\"Filtered count: {filtered_count}\")\n",
    "print(f\"Number of rows filtered out: {filtered_out_count}\")\n"
   ]
  },
  {
   "cell_type": "code",
   "execution_count": 10,
   "metadata": {},
   "outputs": [
    {
     "data": {
      "image/png": "[encoded data removed]",
      "text/plain": [
       "<Figure size 640x480 with 1 Axes>"
      ]
     },
     "metadata": {},
     "output_type": "display_data"
    }
   ],
   "source": [
    "import seaborn as sns\n",
    "\n",
    "# Plot KDE for task_actual_hours\n",
    "sns.kdeplot(df_filtered['task_duration_hours'], fill=True)\n",
    "\n",
    "# Add labels and title\n",
    "plt.xlabel('Task Duration Hours')\n",
    "plt.ylabel('Density')\n",
    "plt.title('KDE Plot of Task Duration Hours')\n",
    "\n",
    "# Show the plot\n",
    "plt.show()\n"
   ]
  },
  {
   "cell_type": "code",
   "execution_count": 11,
   "metadata": {},
   "outputs": [],
   "source": [
    "df = df_filtered"
   ]
  },
  {
   "cell_type": "code",
   "execution_count": 12,
   "metadata": {},
   "outputs": [
    {
     "name": "stdout",
     "output_type": "stream",
     "text": [
      "True\n"
     ]
    }
   ],
   "source": [
    "import torch\n",
    "print(torch.cuda.is_available()) "
   ]
  },
  {
   "cell_type": "code",
   "execution_count": 15,
   "metadata": {},
   "outputs": [
    {
     "name": "stdout",
     "output_type": "stream",
     "text": [
      "Using device: cuda\n"
     ]
    },
    {
     "data": {
      "application/vnd.jupyter.widget-view+json": {
       "model_id": "addff1ee3ba246d39dc50bd5c511ea0a",
       "version_major": 2,
       "version_minor": 0
      },
      "text/plain": [
       "Map:   0%|          | 0/27880 [00:00<?, ? examples/s]"
      ]
     },
     "metadata": {},
     "output_type": "display_data"
    },
    {
     "name": "stderr",
     "output_type": "stream",
     "text": [
      "Epoch 1/15: 100%|██████████| 3485/3485 [00:58<00:00, 59.42it/s]\n"
     ]
    },
    {
     "name": "stdout",
     "output_type": "stream",
     "text": [
      "Epoch 1: Loss = 0.23506172020669755\n"
     ]
    },
    {
     "name": "stderr",
     "output_type": "stream",
     "text": [
      "Epoch 2/15: 100%|██████████| 3485/3485 [00:58<00:00, 59.43it/s]\n"
     ]
    },
    {
     "name": "stdout",
     "output_type": "stream",
     "text": [
      "Epoch 2: Loss = 0.1909524748006293\n"
     ]
    },
    {
     "name": "stderr",
     "output_type": "stream",
     "text": [
      "Epoch 3/15: 100%|██████████| 3485/3485 [00:58<00:00, 59.43it/s]\n"
     ]
    },
    {
     "name": "stdout",
     "output_type": "stream",
     "text": [
      "Epoch 3: Loss = 0.17760048601248568\n"
     ]
    },
    {
     "name": "stderr",
     "output_type": "stream",
     "text": [
      "Epoch 4/15: 100%|██████████| 3485/3485 [00:58<00:00, 59.40it/s]\n"
     ]
    },
    {
     "name": "stdout",
     "output_type": "stream",
     "text": [
      "Epoch 4: Loss = 0.16948839947457695\n"
     ]
    },
    {
     "name": "stderr",
     "output_type": "stream",
     "text": [
      "Epoch 5/15: 100%|██████████| 3485/3485 [00:58<00:00, 59.49it/s]\n"
     ]
    },
    {
     "name": "stdout",
     "output_type": "stream",
     "text": [
      "Epoch 5: Loss = 0.16085272606915207\n"
     ]
    },
    {
     "name": "stderr",
     "output_type": "stream",
     "text": [
      "Epoch 6/15: 100%|██████████| 3485/3485 [00:58<00:00, 59.36it/s]\n"
     ]
    },
    {
     "name": "stdout",
     "output_type": "stream",
     "text": [
      "Epoch 6: Loss = 0.15394274862884\n"
     ]
    },
    {
     "name": "stderr",
     "output_type": "stream",
     "text": [
      "Epoch 7/15: 100%|██████████| 3485/3485 [00:58<00:00, 59.45it/s]\n"
     ]
    },
    {
     "name": "stdout",
     "output_type": "stream",
     "text": [
      "Epoch 7: Loss = 0.14714742424731495\n"
     ]
    },
    {
     "name": "stderr",
     "output_type": "stream",
     "text": [
      "Epoch 8/15: 100%|██████████| 3485/3485 [00:58<00:00, 59.42it/s]\n"
     ]
    },
    {
     "name": "stdout",
     "output_type": "stream",
     "text": [
      "Epoch 8: Loss = 0.1415490423696626\n"
     ]
    },
    {
     "name": "stderr",
     "output_type": "stream",
     "text": [
      "Epoch 9/15: 100%|██████████| 3485/3485 [00:58<00:00, 59.36it/s]\n"
     ]
    },
    {
     "name": "stdout",
     "output_type": "stream",
     "text": [
      "Epoch 9: Loss = 0.13633629031692482\n"
     ]
    },
    {
     "name": "stderr",
     "output_type": "stream",
     "text": [
      "Epoch 10/15: 100%|██████████| 3485/3485 [00:58<00:00, 59.38it/s]\n"
     ]
    },
    {
     "name": "stdout",
     "output_type": "stream",
     "text": [
      "Epoch 10: Loss = 0.13307305428632396\n"
     ]
    },
    {
     "name": "stderr",
     "output_type": "stream",
     "text": [
      "Epoch 11/15: 100%|██████████| 3485/3485 [00:58<00:00, 59.41it/s]\n"
     ]
    },
    {
     "name": "stdout",
     "output_type": "stream",
     "text": [
      "Epoch 11: Loss = 0.12816922284491192\n"
     ]
    },
    {
     "name": "stderr",
     "output_type": "stream",
     "text": [
      "Epoch 12/15: 100%|██████████| 3485/3485 [00:58<00:00, 59.34it/s]\n"
     ]
    },
    {
     "name": "stdout",
     "output_type": "stream",
     "text": [
      "Epoch 12: Loss = 0.1238775109309687\n"
     ]
    },
    {
     "name": "stderr",
     "output_type": "stream",
     "text": [
      "Epoch 13/15: 100%|██████████| 3485/3485 [00:58<00:00, 59.35it/s]\n"
     ]
    },
    {
     "name": "stdout",
     "output_type": "stream",
     "text": [
      "Epoch 13: Loss = 0.1205073611558598\n"
     ]
    },
    {
     "name": "stderr",
     "output_type": "stream",
     "text": [
      "Epoch 14/15: 100%|██████████| 3485/3485 [00:58<00:00, 59.30it/s]\n"
     ]
    },
    {
     "name": "stdout",
     "output_type": "stream",
     "text": [
      "Epoch 14: Loss = 0.11832172793918791\n"
     ]
    },
    {
     "name": "stderr",
     "output_type": "stream",
     "text": [
      "Epoch 15/15: 100%|██████████| 3485/3485 [00:58<00:00, 59.34it/s]\n"
     ]
    },
    {
     "name": "stdout",
     "output_type": "stream",
     "text": [
      "Epoch 15: Loss = 0.11493745023766172\n",
      "Model saved to /data/students/jeryl/OMNI/Omni\n"
     ]
    }
   ],
   "source": [
    "from transformers import AutoModel, AutoTokenizer\n",
    "from datasets import Dataset\n",
    "import torch\n",
    "import torch.nn as nn\n",
    "import torch.optim as optim\n",
    "from torch.utils.data import DataLoader, TensorDataset\n",
    "import pandas as pd\n",
    "from tqdm import tqdm\n",
    "\n",
    "# Check for GPU\n",
    "device = torch.device(\"cuda\" if torch.cuda.is_available() else \"cpu\")\n",
    "print(f\"Using device: {device}\")\n",
    "\n",
    "# Load MiniLM tokenizer and model\n",
    "model_name = \"sentence-transformers/all-MiniLM-L6-v2\"\n",
    "tokenizer = AutoTokenizer.from_pretrained(model_name)\n",
    "base_model = AutoModel.from_pretrained(model_name).to(device)\n",
    "\n",
    "# Normalize Task Duration\n",
    "mean_task_duration = df[\"task_duration_hours\"].mean()\n",
    "std_task_duration = df[\"task_duration_hours\"].std()\n",
    "df[\"task_duration_hours\"] = (df[\"task_duration_hours\"] - mean_task_duration) / std_task_duration\n",
    "\n",
    "# Convert to Hugging Face Dataset\n",
    "dataset = Dataset.from_pandas(df)\n",
    "\n",
    "# Tokenize Data\n",
    "def tokenize(batch):\n",
    "    return tokenizer(batch[\"title\"], padding=\"max_length\", truncation=True, return_tensors=\"pt\")\n",
    "\n",
    "encoded_dataset = dataset.map(tokenize, batched=True)\n",
    "\n",
    "# Extract input tensors\n",
    "input_ids = torch.stack([torch.tensor(x) for x in encoded_dataset[\"input_ids\"]]).squeeze(1).to(device)\n",
    "attention_mask = torch.stack([torch.tensor(x) for x in encoded_dataset[\"attention_mask\"]]).squeeze(1).to(device)\n",
    "labels = torch.tensor(df[\"task_duration_hours\"].values, dtype=torch.float32).to(device)\n",
    "\n",
    "# Create PyTorch DataLoader\n",
    "train_dataset = TensorDataset(input_ids, attention_mask, labels)\n",
    "train_dataloader = DataLoader(train_dataset, batch_size=8, shuffle=True)\n",
    "\n",
    "# Define Regression Model\n",
    "class MiniLMRegressor(nn.Module):\n",
    "    def __init__(self, base_model):\n",
    "        super(MiniLMRegressor, self).__init__()\n",
    "        self.base_model = base_model\n",
    "        self.regressor = nn.Linear(384, 1)  # MiniLM produces 384-dim embeddings\n",
    "\n",
    "        # Unfreeze last 2 transformer layers\n",
    "        for param in self.base_model.parameters():\n",
    "            param.requires_grad = False  # Freeze all first\n",
    "        for param in list(self.base_model.encoder.layer[-2:].parameters()):\n",
    "            param.requires_grad = True  # Unfreeze last two layers\n",
    "\n",
    "    def forward(self, input_ids, attention_mask):\n",
    "        outputs = self.base_model(input_ids=input_ids, attention_mask=attention_mask)\n",
    "        embeddings = outputs.last_hidden_state[:, 0, :]  # Use CLS token embedding\n",
    "        return self.regressor(embeddings).squeeze(1)\n",
    "\n",
    "# Initialize model and optimizer\n",
    "model = MiniLMRegressor(base_model).to(device)\n",
    "optimizer = optim.AdamW(model.parameters(), lr=5e-6, weight_decay=0.01)  # Lower LR\n",
    "criterion = nn.HuberLoss()  # More robust loss function\n",
    "\n",
    "# Training Loop\n",
    "num_epochs = 15  # Increased from 5\n",
    "for epoch in range(num_epochs):\n",
    "    model.train()\n",
    "    epoch_loss = 0.0\n",
    "\n",
    "    for batch in tqdm(train_dataloader, desc=f\"Epoch {epoch+1}/{num_epochs}\"):\n",
    "        input_ids, attention_mask, labels = batch\n",
    "\n",
    "        optimizer.zero_grad()\n",
    "        outputs = model(input_ids, attention_mask)\n",
    "        loss = criterion(outputs, labels)\n",
    "        loss.backward()\n",
    "        optimizer.step()\n",
    "\n",
    "        epoch_loss += loss.item()\n",
    "\n",
    "    print(f\"Epoch {epoch+1}: Loss = {epoch_loss / len(train_dataloader)}\")\n",
    "\n",
    "# Save Model\n",
    "model_save_path = \"/data/students/jeryl/OMNI/Omni\"\n",
    "torch.save(model.state_dict(), f\"{model_save_path}/model.pt\")\n",
    "tokenizer.save_pretrained(model_save_path)\n",
    "print(f\"Model saved to {model_save_path}\")\n",
    "\n"
   ]
  },
  {
   "cell_type": "code",
   "execution_count": 16,
   "metadata": {},
   "outputs": [
    {
     "name": "stdout",
     "output_type": "stream",
     "text": [
      "Task: Refactor backend code -> Predicted Duration: 45.06 hours\n",
      "Task: Deploy machine learning model -> Predicted Duration: 43.67 hours\n"
     ]
    },
    {
     "name": "stderr",
     "output_type": "stream",
     "text": [
      "/tmp/ipykernel_784015/720706175.py:6: FutureWarning: You are using `torch.load` with `weights_only=False` (the current default value), which uses the default pickle module implicitly. It is possible to construct malicious pickle data which will execute arbitrary code during unpickling (See https://github.com/pytorch/pytorch/blob/main/SECURITY.md#untrusted-models for more details). In a future release, the default value for `weights_only` will be flipped to `True`. This limits the functions that could be executed during unpickling. Arbitrary objects will no longer be allowed to be loaded via this mode unless they are explicitly allowlisted by the user via `torch.serialization.add_safe_globals`. We recommend you start setting `weights_only=True` for any use case where you don't have full control of the loaded file. Please open an issue on GitHub for any issues related to this experimental feature.\n",
      "  model.load_state_dict(torch.load(\"/data/students/jeryl/OMNI/Omni/model.pt\"))\n"
     ]
    }
   ],
   "source": [
    "# Load the base MiniLM model\n",
    "base_model = AutoModel.from_pretrained(model_name).to(device)\n",
    "\n",
    "# Load the fine-tuned regression model\n",
    "model = MiniLMRegressor(base_model).to(device)\n",
    "model.load_state_dict(torch.load(\"/data/students/jeryl/OMNI/Omni/model.pt\"))\n",
    "model.eval()  # Set model to evaluation mode\n",
    "\n",
    "# Task names to predict duration\n",
    "task_names = [\"Refactor backend code\", \"Deploy machine learning model\"]\n",
    "\n",
    "# Tokenize inputs\n",
    "inputs = tokenizer(task_names, padding=True, truncation=True, return_tensors=\"pt\").to(device)\n",
    "\n",
    "# Inference\n",
    "with torch.no_grad():\n",
    "    predictions = model(inputs[\"input_ids\"], inputs[\"attention_mask\"])\n",
    "\n",
    "# Convert predictions back to original scale if normalized\n",
    "mean_task_duration = 50  # Replace with actual mean from training\n",
    "std_task_duration = 20   # Replace with actual std from training\n",
    "predicted_durations = (predictions.cpu().numpy() * std_task_duration) + mean_task_duration\n",
    "\n",
    "# Print results\n",
    "for task, duration in zip(task_names, predicted_durations):\n",
    "    print(f\"Task: {task} -> Predicted Duration: {duration:.2f} hours\")"
   ]
  },
  {
   "cell_type": "code",
   "execution_count": 17,
   "metadata": {},
   "outputs": [
    {
     "name": "stdout",
     "output_type": "stream",
     "text": [
      "Embeddings Shape: torch.Size([2, 384])\n",
      "tensor([[-1.8590e-01, -3.0160e-02, -6.1240e-02, -5.8825e-02, -1.8133e-01,\n",
      "          1.9360e-01, -2.2024e-02, -1.3883e-01,  1.3711e-02, -5.6002e-02,\n",
      "          1.3851e-01,  2.6908e-01,  6.5352e-02, -2.3799e-01,  9.8675e-02,\n",
      "         -2.2506e-02,  4.9694e-02,  3.6434e-02, -6.5176e-02, -4.0110e-01,\n",
      "         -2.6388e-02,  4.8707e-02, -4.4908e-02,  1.8635e-01, -3.0807e-01,\n",
      "         -2.5589e-02,  9.3816e-03, -2.4767e-02, -9.2060e-02, -8.0198e-01,\n",
      "          2.2508e-01,  1.7223e-02, -2.9280e-03,  8.8560e-02, -2.5274e-01,\n",
      "          5.8923e-01, -6.1326e-02, -1.4355e-02, -8.7329e-03,  4.7679e-02,\n",
      "         -4.6535e-01, -6.2809e-02, -1.4746e-01,  6.7738e-02,  3.8606e-01,\n",
      "         -3.5065e-01, -2.1103e-03,  7.6400e-03,  3.4548e-02, -2.8533e-01,\n",
      "          1.3002e-01,  9.9311e-02,  6.7799e-02, -2.2827e-01, -2.9374e-01,\n",
      "         -1.0622e-02,  1.7501e-02, -1.6423e-02, -1.8946e-01, -3.8320e-01,\n",
      "         -7.3611e-02, -4.9044e-02, -1.0062e-01, -1.5207e-01, -3.4373e-01,\n",
      "          2.2497e-01, -4.3409e-01, -7.2039e-02,  4.9482e-02, -8.8148e-02,\n",
      "          1.1186e-01, -4.1020e-02,  5.4572e-02, -1.3959e-01,  1.0293e-01,\n",
      "         -2.5914e-01, -6.1827e-02,  6.7747e-02,  1.9569e-01, -2.2202e-02,\n",
      "          3.5647e-02, -1.7258e-01,  1.4812e-02,  1.3465e-01,  1.1818e-01,\n",
      "          1.9085e-01,  6.6056e-02, -1.6148e-01,  1.9315e-01,  2.3621e-01,\n",
      "          7.1850e-02,  6.7313e-02,  3.3918e-01, -3.1215e-02, -4.0400e-01,\n",
      "          2.0092e-01, -4.6252e-02, -1.6669e-01, -2.3980e-02,  5.9546e+00,\n",
      "         -4.8829e-02,  5.7689e-02, -7.2866e-03,  6.2090e-02,  1.1009e-01,\n",
      "         -2.2738e-01,  2.7096e-01,  1.7251e-01,  1.5251e-02,  3.7456e-02,\n",
      "         -9.6680e-02,  1.6494e-02,  1.3061e-01, -8.5517e-02,  3.1118e-01,\n",
      "          2.8599e-02,  2.1892e-01, -4.5325e-01,  2.9215e-01, -1.6185e-01,\n",
      "          4.8616e-01,  4.1717e-01, -5.6791e-02,  4.3170e-02,  3.9820e-01,\n",
      "         -1.3017e+00,  1.3140e-02, -4.7695e-32,  3.2225e-01,  9.4442e-02,\n",
      "         -2.2778e-02,  3.5263e-01,  3.0290e-01,  4.9074e-02,  4.9768e-02,\n",
      "          7.3194e-02,  5.3763e-02, -1.1160e-01, -1.2776e-01, -7.1146e-02,\n",
      "         -8.1396e-02,  1.6573e-01,  3.0684e-01,  3.2091e-02,  1.8427e-01,\n",
      "          2.2485e-01,  1.9175e-03, -4.4377e-01, -1.1764e-01, -1.1796e-02,\n",
      "          8.5704e-02,  1.6451e-01, -1.0208e-01,  3.5362e-01,  2.0487e-02,\n",
      "          1.2206e-01,  5.6499e-02, -4.2901e-01,  3.0689e-01, -2.2516e-01,\n",
      "          1.4141e-01,  6.7264e-02, -3.5142e-01,  4.8448e-02, -4.8619e-01,\n",
      "         -1.5884e-01, -2.5432e-01, -2.0346e-02, -1.2927e-01,  1.4004e-03,\n",
      "         -3.5022e-01, -1.8278e-01,  5.4589e-02, -3.1606e-01,  5.9008e-02,\n",
      "          1.9218e-01,  1.4861e-01,  2.2220e-01,  2.2022e-01,  7.8576e-01,\n",
      "          3.2082e-01, -1.4063e-01, -2.2896e-01,  1.2581e-01,  5.2258e-02,\n",
      "          1.8421e-01, -1.3314e-01,  2.7119e-01,  5.0738e-02, -2.2517e-01,\n",
      "         -2.3003e-01,  2.7159e-01, -2.6268e-01, -2.5440e-01,  1.2707e-01,\n",
      "          4.4626e-02,  3.5878e-01, -3.8145e-02, -5.0552e-02,  1.8345e-01,\n",
      "          3.0342e-02,  1.1096e-01,  1.7741e-01, -1.8189e-01, -4.9496e-02,\n",
      "         -1.2767e-01,  9.8829e-02, -2.4478e-01, -1.0392e-01, -1.3753e-02,\n",
      "         -5.2211e-02,  3.1819e-01,  5.9553e-02, -4.3940e-02,  1.1726e-02,\n",
      "         -8.1746e-02,  1.4816e-01,  3.5345e-01, -2.3042e-01, -2.7818e-01,\n",
      "          2.3783e-01, -1.4007e-01,  2.6855e-01,  3.6144e-32,  5.3267e-03,\n",
      "         -3.2570e-01, -7.7356e-02,  4.4566e-02, -5.1956e-02, -1.1457e-01,\n",
      "         -3.0839e-01,  3.5311e-01, -1.3680e-01, -7.5940e-02, -3.9097e-03,\n",
      "          1.5512e-02, -1.5208e-01, -9.1727e-02,  3.6161e-01,  2.1962e-01,\n",
      "         -1.6750e-01,  4.7461e-02,  2.6754e-02, -9.1780e-02,  3.1816e-02,\n",
      "         -1.1769e-01,  2.8768e-01,  1.4470e-01, -3.2420e-01,  1.5048e-01,\n",
      "         -9.1155e-02, -1.5936e-01, -7.2960e-03, -1.5324e-01,  7.6512e-02,\n",
      "         -3.5776e-01,  2.2844e-02,  1.4172e-01, -2.8508e-01,  6.7178e-02,\n",
      "         -3.4694e-01, -4.0800e-02,  8.2698e-02,  9.6176e-02,  1.6954e-01,\n",
      "         -6.0022e-02, -8.0361e-02, -4.3337e-02, -1.0458e-01, -1.6869e-01,\n",
      "         -1.1148e-01, -2.2608e-02,  6.8606e-02, -3.1607e-01, -1.6066e-01,\n",
      "         -9.8229e-02,  2.3475e-02, -3.8650e-01,  1.5812e-01, -9.3003e-02,\n",
      "         -4.0755e-01, -2.8845e-01, -2.3254e-01,  1.4935e-01,  5.1552e-02,\n",
      "         -1.1025e-02, -6.3666e-02,  1.4656e-01, -2.8372e-01, -3.3699e-01,\n",
      "         -3.1767e-01, -1.3013e-01, -2.8109e-01, -2.8386e-01,  1.4459e-01,\n",
      "         -1.3002e-01, -3.2014e-01,  2.9430e-01,  2.5841e-01, -2.3866e-01,\n",
      "         -4.6967e-02,  1.2540e-01,  8.8659e-02,  2.1417e-01,  2.3943e-01,\n",
      "         -1.3422e-01,  4.1057e-02, -1.3393e-01, -1.2065e-01, -8.0618e-03,\n",
      "         -1.9152e-01,  3.2625e-01, -3.0144e-02, -1.1996e-01, -3.9938e-01,\n",
      "          1.1533e-01,  1.3128e-01, -1.3603e-01, -5.5508e-02, -8.8999e-08,\n",
      "         -1.8906e-01,  3.0052e-01,  1.1329e-01, -6.3879e-02,  1.1330e-01,\n",
      "          2.6181e-01, -1.2689e-01,  1.0335e-01, -3.2429e-02, -2.0063e-01,\n",
      "          1.9923e-01, -4.4679e-02, -1.1903e-01, -7.8953e-02,  1.3512e-01,\n",
      "         -1.7673e-01, -2.5642e-01, -1.5895e-01,  1.7676e-01,  9.9971e-02,\n",
      "         -9.3385e-02,  4.9666e-01, -6.4334e-02, -3.2500e-02,  6.3496e-02,\n",
      "          1.3844e-01,  1.7093e-01, -2.0056e-01, -1.3732e-01,  3.8711e-01,\n",
      "          4.0523e-01, -2.8646e-02,  1.6843e-01, -8.2856e-02, -9.0563e-02,\n",
      "         -5.1254e-01,  1.7896e-01,  4.3060e-02, -1.5940e-01,  2.9620e-01,\n",
      "          6.6511e-02, -1.2252e-01, -1.4437e-02, -1.1657e-01, -8.3847e-02,\n",
      "         -7.1240e-02, -2.2727e-01, -7.2059e-02,  1.9795e-01, -2.4215e-01,\n",
      "         -2.9056e-02, -3.6111e-01, -2.9818e-01,  2.1013e-01,  6.5454e-02,\n",
      "         -1.2856e-02,  5.7318e-02, -9.7474e-02,  2.3568e-02, -1.5040e-01,\n",
      "          2.6930e-01,  3.1380e-01, -3.7403e-02, -2.3739e-01],\n",
      "        [ 4.0209e-01, -4.7777e-01,  8.5607e-02, -2.4702e-02,  2.9973e-01,\n",
      "          5.1759e-02, -8.9931e-02, -1.4320e-01, -1.3859e-01,  3.6064e-02,\n",
      "          1.1233e-01,  2.7757e-01,  3.1145e-02, -3.8264e-02, -1.4202e-01,\n",
      "          2.4876e-01,  1.7207e-01,  1.5109e-01, -1.5601e-01, -1.1601e-01,\n",
      "          1.0259e-01,  1.0992e-01, -2.8868e-01,  5.2834e-02, -2.5631e-01,\n",
      "         -1.1032e-01,  1.4152e-01,  3.8443e-01,  3.8043e-02, -6.7276e-01,\n",
      "         -2.1560e-01, -4.0655e-01, -3.0032e-01,  2.5136e-01,  2.6347e-01,\n",
      "          2.3692e-01,  1.7608e-01,  3.4554e-02,  1.9801e-01, -1.0913e-01,\n",
      "          1.4678e-01, -5.2847e-01,  1.9826e-01, -2.7204e-01,  6.2827e-01,\n",
      "          2.8901e-02, -2.8071e-02, -5.0716e-01,  1.5680e-01, -1.2862e-01,\n",
      "         -4.4212e-01, -4.5624e-01,  1.4636e-01,  2.9315e-03, -3.8908e-01,\n",
      "         -3.1906e-01, -9.6863e-03, -1.5012e-01, -1.1000e-01, -2.2519e-01,\n",
      "         -1.1376e-02, -3.5688e-01, -3.5390e-01,  1.5937e-01, -2.5147e-01,\n",
      "         -1.0878e-01, -1.7700e-01,  1.3797e-01,  1.0621e-01, -1.5615e-01,\n",
      "          3.7086e-01,  1.5557e-01, -3.2967e-01, -1.3917e-01, -5.8412e-02,\n",
      "          5.4939e-02,  9.3521e-02, -4.2191e-02,  8.9210e-01,  5.1806e-03,\n",
      "         -1.5800e-01,  9.8120e-02,  2.6833e-01,  6.2479e-02, -2.8854e-01,\n",
      "         -2.8103e-01, -5.5497e-02, -2.7814e-01,  3.5201e-01,  6.7047e-02,\n",
      "         -4.1863e-02,  1.5224e-01,  7.1169e-02, -2.8583e-01, -3.5256e-01,\n",
      "          1.5266e-01,  3.3879e-01, -2.5919e-01, -3.0280e-01,  5.8269e+00,\n",
      "         -5.4374e-01,  1.7002e-02, -1.1226e-01, -1.2592e-01,  1.6126e-01,\n",
      "         -8.9640e-02, -1.3041e-01, -3.5469e-02,  3.7554e-01, -4.7566e-01,\n",
      "         -2.3495e-01,  4.1287e-01, -8.5310e-02,  2.0280e-02, -2.6873e-02,\n",
      "          2.3530e-02, -2.7837e-01, -8.2758e-02, -1.1962e-01,  2.1062e-01,\n",
      "         -3.1361e-01,  9.0826e-02,  1.3427e-01,  2.2183e-01, -6.1557e-02,\n",
      "         -1.3069e+00, -5.2356e-01, -4.7680e-32,  1.9931e-01, -1.9882e-01,\n",
      "          1.4491e-01,  3.2147e-01,  3.8342e-01, -3.3955e-01,  1.5052e-01,\n",
      "         -2.6277e-01, -1.8741e-03, -2.1106e-01, -2.6301e-01, -1.6958e-01,\n",
      "          8.4518e-02,  1.5141e-01,  2.1991e-01, -1.3408e-01,  2.1711e-01,\n",
      "         -2.2241e-02, -1.7166e-01, -1.2743e-01,  4.4265e-01, -9.4196e-02,\n",
      "          1.2567e-02,  7.2995e-02,  3.3979e-02,  2.1162e-01,  2.2786e-01,\n",
      "          4.2629e-01,  8.3796e-02,  3.6570e-02, -1.9315e-01,  2.9107e-02,\n",
      "          1.2812e-01, -2.1762e-01,  4.3260e-02, -3.1554e-01, -1.7682e-01,\n",
      "          1.3610e-02,  2.8540e-01,  2.5012e-02,  2.3640e-01, -2.5786e-01,\n",
      "          8.3651e-02, -4.0829e-01, -7.3523e-02,  7.4095e-02,  3.4285e-01,\n",
      "         -4.2681e-01,  1.0923e-01, -4.8544e-02,  2.3257e-01, -1.5695e-01,\n",
      "          1.1528e-02, -4.1896e-01, -2.1651e-01,  4.5393e-01,  1.7577e-01,\n",
      "         -1.7405e-01,  7.0936e-02,  1.4456e-01,  2.9730e-04, -1.2668e-01,\n",
      "         -1.4274e-01,  1.1971e-01,  2.3259e-01, -1.8835e-01,  2.8803e-01,\n",
      "         -1.7746e-01,  1.3206e-01, -1.0980e-02, -2.3305e-01, -1.9348e-02,\n",
      "         -4.7584e-02, -2.8928e-01,  2.7888e-01, -5.9159e-01,  2.9523e-01,\n",
      "          4.3018e-01, -1.0386e-01,  1.9403e-01,  1.6837e-01,  2.6775e-01,\n",
      "         -3.5855e-01, -4.3869e-01,  7.2720e-02,  5.9487e-02,  1.6440e-02,\n",
      "         -1.3196e-01, -1.5609e-01,  2.1833e-02, -9.4875e-02,  1.1227e-01,\n",
      "         -1.3092e-01, -2.4796e-01, -9.8326e-02,  3.2840e-32,  7.1231e-02,\n",
      "          5.2557e-02, -2.2700e-01,  1.3271e-01,  2.1478e-01, -1.8081e-01,\n",
      "         -1.0201e-01,  1.7992e-01, -3.2687e-01, -1.3151e-02,  1.1179e-01,\n",
      "         -7.3813e-02, -5.3778e-02,  9.5134e-02, -3.3784e-01,  2.0390e-01,\n",
      "          1.2186e-01, -1.6759e-02, -2.6621e-02, -5.3737e-02, -1.3546e-02,\n",
      "          2.9404e-03,  9.0991e-02,  7.8569e-02,  3.4245e-01,  1.2497e-02,\n",
      "         -2.9254e-01,  2.3969e-01,  6.5523e-02,  3.4406e-01,  1.9323e-02,\n",
      "         -9.3986e-02, -2.0516e-02,  1.1123e-01, -2.9065e-01,  1.5963e-01,\n",
      "         -2.9530e-01, -3.1937e-01,  3.2650e-01,  2.5186e-01,  1.4656e-01,\n",
      "         -2.8191e-01, -4.0186e-01, -2.5732e-01,  1.2586e-01, -1.3551e-01,\n",
      "         -2.3607e-02, -2.0133e-01,  1.5005e-01, -6.5883e-01, -1.1000e-01,\n",
      "          3.5561e-01, -9.9877e-02, -1.0695e-01, -3.8232e-01,  1.9459e-01,\n",
      "         -3.0146e-01,  3.6812e-01,  2.0063e-02,  1.2023e-01, -1.6946e-01,\n",
      "         -2.8897e-01,  2.1739e-01, -4.1904e-01, -1.0327e-01,  1.7117e-01,\n",
      "         -2.7115e-01,  2.3222e-01, -3.2342e-01, -7.8782e-02, -2.4598e-01,\n",
      "          1.9410e-01, -2.3871e-01,  1.3374e-01, -3.4742e-01, -2.5149e-01,\n",
      "         -3.3266e-01, -1.7597e-01, -1.4669e-01,  1.8963e-01, -1.2473e-03,\n",
      "         -3.2198e-01, -1.8148e-01,  1.3762e-01,  3.1610e-01, -1.8111e-01,\n",
      "          3.3055e-01,  3.5874e-01,  4.7390e-03, -3.9686e-02, -3.6035e-01,\n",
      "          1.8225e-01, -2.9188e-02,  2.6141e-01, -2.9194e-01, -9.0245e-08,\n",
      "         -2.9650e-01,  6.3215e-01,  4.7648e-01, -2.7638e-02,  3.0705e-01,\n",
      "          3.5514e-01, -1.7435e-01,  1.1910e-01,  3.0654e-01, -3.3180e-02,\n",
      "         -1.7429e-02,  6.4998e-02, -3.3111e-01,  3.4657e-02, -1.9561e-01,\n",
      "          1.0928e-01, -1.8891e-01,  1.8351e-01,  1.2744e-01, -7.5402e-02,\n",
      "          5.6667e-01,  3.7531e-01,  1.9485e-01, -1.0332e-01,  2.2823e-01,\n",
      "         -3.1881e-01, -1.3037e-01, -6.6219e-01, -2.0939e-01,  3.9735e-01,\n",
      "         -3.2496e-01,  8.0614e-02, -6.8627e-02,  5.9356e-02,  2.3480e-01,\n",
      "          1.5949e-01,  1.1238e-01, -3.9617e-02,  2.3783e-01,  7.6815e-02,\n",
      "         -1.8845e-01,  3.9890e-01, -1.4234e-01, -4.0146e-02, -2.5069e-01,\n",
      "          5.0629e-01,  2.0235e-01, -2.8563e-01, -4.0109e-02, -5.0109e-02,\n",
      "          3.9605e-01, -1.1274e-01, -1.1789e-01,  4.9315e-01,  1.7630e-01,\n",
      "          1.0580e-01,  1.1869e-01, -4.5419e-01, -1.7963e-01,  3.8438e-01,\n",
      "         -8.4162e-03, -6.4783e-02, -2.6500e-01,  3.2396e-02]], device='cuda:0')\n"
     ]
    }
   ],
   "source": [
    "import torch\n",
    "from transformers import AutoTokenizer, AutoModel\n",
    "\n",
    "# Set device\n",
    "device = torch.device(\"cuda\" if torch.cuda.is_available() else \"cpu\")\n",
    "\n",
    "# Load MiniLM tokenizer and base model (without regression head)\n",
    "model_name = \"sentence-transformers/all-MiniLM-L6-v2\"\n",
    "tokenizer = AutoTokenizer.from_pretrained(model_name)\n",
    "base_model = AutoModel.from_pretrained(model_name).to(device)\n",
    "base_model.eval()  # Set model to evaluation mode\n",
    "\n",
    "# Task names to extract embeddings\n",
    "task_names = [\"Refactor backend code\", \"Deploy machine learning model\"]\n",
    "\n",
    "# Tokenize inputs\n",
    "inputs = tokenizer(task_names, padding=True, truncation=True, return_tensors=\"pt\").to(device)\n",
    "\n",
    "# Inference to get embeddings\n",
    "with torch.no_grad():\n",
    "    outputs = base_model(**inputs)\n",
    "    embeddings = outputs.last_hidden_state[:, 0, :]  # Extract CLS token embeddings\n",
    "\n",
    "# Print embeddings\n",
    "print(\"Embeddings Shape:\", embeddings.shape)  # (batch_size, 384)\n",
    "print(embeddings)  # Actual embeddings for each task name\n"
   ]
  }
 ],
 "metadata": {
  "kernelspec": {
   "display_name": "Python 3",
   "language": "python",
   "name": "python3"
  },
  "language_info": {
   "codemirror_mode": {
    "name": "ipython",
    "version": 3
   },
   "file_extension": ".py",
   "mimetype": "text/x-python",
   "name": "python",
   "nbconvert_exporter": "python",
   "pygments_lexer": "ipython3",
   "version": "3.8.10"
  }
 },
 "nbformat": 4,
 "nbformat_minor": 2
}
